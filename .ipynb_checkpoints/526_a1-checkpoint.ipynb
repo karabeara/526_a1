{
 "cells": [
  {
   "cell_type": "code",
   "execution_count": 51,
   "metadata": {
    "collapsed": true
   },
   "outputs": [],
   "source": [
    "from PIL import Image # https://pillow.readthedocs.io/en/4.2.x/reference/Image.html\n",
    "import numpy as np"
   ]
  },
  {
   "cell_type": "code",
   "execution_count": 52,
   "metadata": {},
   "outputs": [],
   "source": [
    "# reads in three images\n",
    "\n",
    "destination_filename = \"Tests/perez-fig3a-dst.png\";\n",
    "mask_filename        = \"Tests/perez-fig3a-mask.png\";\n",
    "source_filename      = \"Tests/perez-fig3a-src.png\";\n",
    "\n",
    "destination_img = Image.open(dst_filename);\n",
    "mask_img        = Image.open(mask_filename);\n",
    "source_img      = Image.open(src_filename);\n",
    "\n",
    "destination_img.show()\n",
    "mask_img.show()\n",
    "source_img.show()"
   ]
  },
  {
   "cell_type": "code",
   "execution_count": 53,
   "metadata": {},
   "outputs": [],
   "source": [
    "# replace destination image pixels w/ source\n",
    "# at locations where the mask is \"white\"\n",
    "\n",
    "destination_rgb = destination_img.convert('RGB');\n",
    "mask_rgb        = mask_img.convert('RGB');\n",
    "source_rgb      = source_img.convert('RGB');\n",
    "\n",
    "result_img = destination_img\n",
    "\n",
    "for x in range(0, mask_rgb.width): \n",
    "    for y in range(0, mask_rgb.height):\n",
    "        current_mask_pixel = mask_rgb.getpixel((x, y))\n",
    "        current_dest_pixel = source_rgb.getpixel((x, y))\n",
    "\n",
    "        if current_mask_pixel == (255, 255, 255):   # r,g,b pixel values\n",
    "            result_img.putpixel((x, y), current_dest_pixel)\n",
    "            \n",
    "result_img.save(\"test.png\")\n",
    "result_img.show()"
   ]
  },
  {
   "cell_type": "code",
   "execution_count": 70,
   "metadata": {},
   "outputs": [],
   "source": [
    "# Set up for solving the linear system of equations\n",
    "# Data structure that maps from pixel (x,y) coordinates to which variable in linear system corresponds to it\n",
    "# Need to identify which pixels are on the \"boundary\" -- pixels no within the mask but have neighbors that are within the mask\n",
    "\n",
    "size   = (mask_rgb.width, mask_rgb.height)\n",
    "\n",
    "# 0 ==> pixel not in the mask / boundary\n",
    "# 1 ==> pixel in the mask\n",
    "# 2 ==> pixel on the boundary\n",
    "pixels = np.zeros(size)\n",
    "\n",
    "for x in range(0, mask_rgb.width): \n",
    "    for y in range(0, mask_rgb.height):\n",
    "        current_mask_pixel = mask_rgb.getpixel((x, y));\n",
    "        \n",
    "        # ---- Left pixel ----\n",
    "        if x > 0: \n",
    "            left_mask_pixel = mask_rgb.getpixel((x-1, y));\n",
    "        else: \n",
    "            left_mask_pixel = None;\n",
    "            \n",
    "        # ---- Right pixel ----\n",
    "        if x < mask_rgb.width - 1: \n",
    "            right_mask_pixel = mask_rgb.getpixel((x+1, y));\n",
    "        else: \n",
    "            right_mask_pixel = None;\n",
    "            \n",
    "        # ---- Top pixel ----\n",
    "        if y > 0: \n",
    "            top_mask_pixel = mask_rgb.getpixel((x, y-1));\n",
    "        else: \n",
    "            top_mask_pixel = None;\n",
    "        \n",
    "        # ---- Bottom pixel ----\n",
    "        if y < mask_rgb.height - 1: \n",
    "            bottom_mask_pixel = mask_rgb.getpixel((x, y+1));\n",
    "        else: \n",
    "            bottom_mask_pixel = None;\n",
    "            \n",
    "        current_dest_pixel = source_rgb.getpixel((x, y));\n",
    "\n",
    "        # Check if current pixel is in mask\n",
    "        if current_mask_pixel == (255, 255, 255):   # r,g,b pixel values\n",
    "            pixels[x,y] = 1\n",
    "            #result_img.putpixel((x, y), current_dest_pixel)\n",
    "         \n",
    "        # Check if current pixel in on the \"boundary\"\n",
    "        elif (left_mask_pixel != None and left_mask_pixel == (255, 255, 255)) or (right_mask_pixel != None and right_mask_pixel == (255, 255, 255)) or (top_mask_pixel != None and top_mask_pixel == (255, 255, 255)) or (bottom_mask_pixel != None and bottom_mask_pixel == (255, 255, 255)):\n",
    "            pixels[x,y] = 2\n",
    "            #result_img.putpixel((x, y), (255, 255, 255))\n",
    "            \n",
    "result_img.save(\"test.png\")\n",
    "result_img.show()"
   ]
  },
  {
   "cell_type": "code",
   "execution_count": null,
   "metadata": {
    "collapsed": true
   },
   "outputs": [],
   "source": [
    "# Set up and solve linear system\n",
    "# SciPy package containers sparse matrices and sparse solvers\n",
    "# Sparse matrices: https://docs.scipy.org/doc/scipy/reference/sparse.html\n",
    "# Sparse solvers: https://docs.scipy.org/doc/scipy/reference/generated/scipy.sparse.linalg.spsolve.html\n",
    "# Use \"iterative\" as opposed to \"direct\" solvers, and solve the system separately for each of the R, B, and B color channels\n",
    "\n"
   ]
  },
  {
   "cell_type": "code",
   "execution_count": null,
   "metadata": {
    "collapsed": true
   },
   "outputs": [],
   "source": [
    "# Copy results back out fo the matrix and into output image\n",
    "# Output both \"cloning\" and \"seamless cloning\" results for each in"
   ]
  },
  {
   "cell_type": "code",
   "execution_count": null,
   "metadata": {
    "collapsed": true
   },
   "outputs": [],
   "source": [
    "# "
   ]
  },
  {
   "cell_type": "code",
   "execution_count": null,
   "metadata": {
    "collapsed": true
   },
   "outputs": [],
   "source": []
  }
 ],
 "metadata": {
  "kernelspec": {
   "display_name": "Python 3",
   "language": "python",
   "name": "python3"
  },
  "language_info": {
   "codemirror_mode": {
    "name": "ipython",
    "version": 3
   },
   "file_extension": ".py",
   "mimetype": "text/x-python",
   "name": "python",
   "nbconvert_exporter": "python",
   "pygments_lexer": "ipython3",
   "version": "3.6.2"
  }
 },
 "nbformat": 4,
 "nbformat_minor": 2
}
